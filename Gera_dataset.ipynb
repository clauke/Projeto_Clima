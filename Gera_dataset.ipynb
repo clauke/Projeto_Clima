{
 "cells": [
  {
   "cell_type": "code",
   "execution_count": 1,
   "id": "2aeb8623-b4a9-4337-b77b-4f747d2995ff",
   "metadata": {},
   "outputs": [],
   "source": [
    "import pandas as pd\n",
    "import numpy as np\n",
    "from datetime import datetime, timedelta"
   ]
  },
  {
   "cell_type": "code",
   "execution_count": 2,
   "id": "7c24b4a1-4738-45b4-afa6-630fd8230a99",
   "metadata": {},
   "outputs": [],
   "source": [
    "num_dias = 2 * 365\n",
    "datas = [datetime(2023, 1, 1) + timedelta(days=i) for i in range(num_dias)]"
   ]
  },
  {
   "cell_type": "code",
   "execution_count": 3,
   "id": "754a50a5-1f00-47b4-87ed-bb1dd41b4f71",
   "metadata": {},
   "outputs": [],
   "source": [
    "np.random.seed(42)\n",
    "\n",
    "temperatura = 25 + 10 * np.sin(np.linspace(0, 4 * np.pi, num_dias)) + np.random.normal(0, 1, num_dias)\n",
    "umidade = 70 - 0.5 * temperatura + np.random.normal(0, 2, num_dias)\n",
    "pressao = 1015 + 0.3 * temperatura + np.random.normal(0, 2, num_dias)\n",
    "vento = 5 + 2 * np.sin(np.linspace(0, 4 * np.pi, num_dias)) + np.random.normal(0, 0.5, num_dias)\n",
    "radiacao_solar = np.maximum(0, 500 + 20 * temperatura + np.random.normal(0, 50, num_dias))\n",
    "indice_uv = np.maximum(0, 8 + 0.02 * radiacao_solar + np.random.normal(0, 0.5, num_dias))\n",
    "visibilidade = np.random.uniform(5, 10, num_dias)\n",
    "precipitacao = np.maximum(0, 10 - 0.3 * temperatura + np.random.normal(0, 2, num_dias))"
   ]
  },
  {
   "cell_type": "code",
   "execution_count": 4,
   "id": "dd35bb35-043b-446a-9af2-e0c769b27dd9",
   "metadata": {},
   "outputs": [],
   "source": [
    "df_clima = pd.DataFrame({\n",
    "    'Data': datas,\n",
    "    'Temperatura_C': temperatura,\n",
    "    'Umidade_%': umidade,\n",
    "    'Pressao_hPa': pressao,\n",
    "    'Velocidade_Vento_mps': vento,\n",
    "    'Radicacao_Solar_Wm2': radiacao_solar,\n",
    "    'Indice_UV': indice_uv,\n",
    "    'Visibilidade_km': visibilidade,\n",
    "    'Precipitacao_mm': precipitacao\n",
    "})"
   ]
  },
  {
   "cell_type": "code",
   "execution_count": 5,
   "id": "6e11a068-15df-4d89-aac7-41f3b8981476",
   "metadata": {},
   "outputs": [
    {
     "data": {
      "text/html": [
       "<div>\n",
       "<style scoped>\n",
       "    .dataframe tbody tr th:only-of-type {\n",
       "        vertical-align: middle;\n",
       "    }\n",
       "\n",
       "    .dataframe tbody tr th {\n",
       "        vertical-align: top;\n",
       "    }\n",
       "\n",
       "    .dataframe thead th {\n",
       "        text-align: right;\n",
       "    }\n",
       "</style>\n",
       "<table border=\"1\" class=\"dataframe\">\n",
       "  <thead>\n",
       "    <tr style=\"text-align: right;\">\n",
       "      <th></th>\n",
       "      <th>Data</th>\n",
       "      <th>Temperatura_C</th>\n",
       "      <th>Umidade_%</th>\n",
       "      <th>Pressao_hPa</th>\n",
       "      <th>Velocidade_Vento_mps</th>\n",
       "      <th>Radicacao_Solar_Wm2</th>\n",
       "      <th>Indice_UV</th>\n",
       "      <th>Visibilidade_km</th>\n",
       "      <th>Precipitacao_mm</th>\n",
       "    </tr>\n",
       "  </thead>\n",
       "  <tbody>\n",
       "    <tr>\n",
       "      <th>0</th>\n",
       "      <td>2023-01-01</td>\n",
       "      <td>25.496714</td>\n",
       "      <td>57.643333</td>\n",
       "      <td>1022.372102</td>\n",
       "      <td>4.200938</td>\n",
       "      <td>973.992664</td>\n",
       "      <td>27.683880</td>\n",
       "      <td>9.339998</td>\n",
       "      <td>2.516651</td>\n",
       "    </tr>\n",
       "    <tr>\n",
       "      <th>1</th>\n",
       "      <td>2023-01-02</td>\n",
       "      <td>25.034105</td>\n",
       "      <td>55.526202</td>\n",
       "      <td>1020.061635</td>\n",
       "      <td>5.265560</td>\n",
       "      <td>1037.932373</td>\n",
       "      <td>29.034046</td>\n",
       "      <td>9.140929</td>\n",
       "      <td>1.033425</td>\n",
       "    </tr>\n",
       "    <tr>\n",
       "      <th>2</th>\n",
       "      <td>2023-01-03</td>\n",
       "      <td>25.992377</td>\n",
       "      <td>57.820317</td>\n",
       "      <td>1022.379666</td>\n",
       "      <td>6.081092</td>\n",
       "      <td>1010.112668</td>\n",
       "      <td>28.424640</td>\n",
       "      <td>8.130274</td>\n",
       "      <td>5.698561</td>\n",
       "    </tr>\n",
       "    <tr>\n",
       "      <th>3</th>\n",
       "      <td>2023-01-04</td>\n",
       "      <td>27.039934</td>\n",
       "      <td>53.074866</td>\n",
       "      <td>1021.410939</td>\n",
       "      <td>4.421794</td>\n",
       "      <td>1037.589271</td>\n",
       "      <td>28.338959</td>\n",
       "      <td>5.376394</td>\n",
       "      <td>3.968143</td>\n",
       "    </tr>\n",
       "    <tr>\n",
       "      <th>4</th>\n",
       "      <td>2023-01-05</td>\n",
       "      <td>25.454813</td>\n",
       "      <td>59.330905</td>\n",
       "      <td>1021.475397</td>\n",
       "      <td>5.232646</td>\n",
       "      <td>1013.683888</td>\n",
       "      <td>28.348360</td>\n",
       "      <td>5.561985</td>\n",
       "      <td>0.884014</td>\n",
       "    </tr>\n",
       "  </tbody>\n",
       "</table>\n",
       "</div>"
      ],
      "text/plain": [
       "        Data  Temperatura_C  Umidade_%  Pressao_hPa  Velocidade_Vento_mps  \\\n",
       "0 2023-01-01      25.496714  57.643333  1022.372102              4.200938   \n",
       "1 2023-01-02      25.034105  55.526202  1020.061635              5.265560   \n",
       "2 2023-01-03      25.992377  57.820317  1022.379666              6.081092   \n",
       "3 2023-01-04      27.039934  53.074866  1021.410939              4.421794   \n",
       "4 2023-01-05      25.454813  59.330905  1021.475397              5.232646   \n",
       "\n",
       "   Radicacao_Solar_Wm2  Indice_UV  Visibilidade_km  Precipitacao_mm  \n",
       "0           973.992664  27.683880         9.339998         2.516651  \n",
       "1          1037.932373  29.034046         9.140929         1.033425  \n",
       "2          1010.112668  28.424640         8.130274         5.698561  \n",
       "3          1037.589271  28.338959         5.376394         3.968143  \n",
       "4          1013.683888  28.348360         5.561985         0.884014  "
      ]
     },
     "execution_count": 5,
     "metadata": {},
     "output_type": "execute_result"
    }
   ],
   "source": [
    "df_clima.head()"
   ]
  },
  {
   "cell_type": "code",
   "execution_count": 8,
   "id": "08537fe0-ab68-4880-94c2-2d41a3dbef2e",
   "metadata": {},
   "outputs": [],
   "source": [
    "df_clima.to_csv('dados_clima.csv')"
   ]
  }
 ],
 "metadata": {
  "kernelspec": {
   "display_name": "Python 3 (ipykernel)",
   "language": "python",
   "name": "python3"
  },
  "language_info": {
   "codemirror_mode": {
    "name": "ipython",
    "version": 3
   },
   "file_extension": ".py",
   "mimetype": "text/x-python",
   "name": "python",
   "nbconvert_exporter": "python",
   "pygments_lexer": "ipython3",
   "version": "3.11.7"
  }
 },
 "nbformat": 4,
 "nbformat_minor": 5
}
